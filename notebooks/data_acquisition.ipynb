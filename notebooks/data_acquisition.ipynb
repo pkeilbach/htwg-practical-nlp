{
 "cells": [
  {
   "cell_type": "markdown",
   "metadata": {},
   "source": [
    "# Data Acquisition\n",
    "\n",
    "This notebook demonstrates how to acquire data for an NLP task from the web.\n",
    "\n",
    "We will use the New York Times Article Search API to download articles. The API is available at [https://developer.nytimes.com/apis](https://developer.nytimes.com/apis).\n",
    "\n",
    "Here is an example call that we are going to implement as a Python function to automate the data acquisition process:\n",
    "\n",
    "```\n",
    "https://api.nytimes.com/svc/search/v2/articlesearch.json?q=election&api-key=yourkey\n",
    "```\n",
    "\n",
    "The exact API specification can be found at [here](https://developer.nytimes.com/docs/articlesearch-product/1/overview).\n",
    "\n",
    "To use the API, we need to create an account and get an API key. The API key is used to authenticate the user and to track API usage.\n",
    "\n",
    "More details about the API key can be found [here](https://developer.nytimes.com/get-started).\n"
   ]
  },
  {
   "cell_type": "code",
   "execution_count": null,
   "metadata": {},
   "outputs": [],
   "source": [
    "import requests\n",
    "\n",
    "\n",
    "def get_nyt_articles_by_keyword(params: dict, api_key: str) -> dict:\n",
    "    url = \"https://api.nytimes.com/svc/search/v2/articlesearch.json\"\n",
    "    response = requests.get(url, params={**params, \"api-key\": api_key})\n",
    "    return response.json()"
   ]
  },
  {
   "cell_type": "code",
   "execution_count": null,
   "metadata": {},
   "outputs": [],
   "source": [
    "# set the API key\n",
    "API_KEY = \"insert_your_api_key_here\"\n",
    "\n",
    "# specify the search parameters according to your needs\n",
    "params = {\n",
    "    \"q\": \"uefa euro 2024\",\n",
    "    \"begin_date\": \"20240601\",\n",
    "    \"end_date\": \"20240630\",\n",
    "    \"sort\": \"newest\",\n",
    "}\n",
    "response = get_nyt_articles_by_keyword(params, API_KEY)\n",
    "\n",
    "# inspect the response\n",
    "response"
   ]
  },
  {
   "cell_type": "markdown",
   "metadata": {},
   "source": [
    "Now we have the data at hand and can inspect it"
   ]
  },
  {
   "cell_type": "code",
   "execution_count": null,
   "metadata": {},
   "outputs": [],
   "source": [
    "articles = response[\"response\"][\"docs\"]\n",
    "\n",
    "# print the number of articles (we only get 10 articles per request)\n",
    "len(articles)"
   ]
  },
  {
   "cell_type": "markdown",
   "metadata": {},
   "source": [
    "Now we can build a preprocessing pipeline according to the task at hand and prepare the data for further processing."
   ]
  },
  {
   "cell_type": "code",
   "execution_count": null,
   "metadata": {},
   "outputs": [],
   "source": [
    "for a in articles:\n",
    "    print(a[\"headline\"][\"main\"])\n",
    "    print(a[\"snippet\"])\n",
    "    print(a[\"pub_date\"])\n",
    "    print(\"\")"
   ]
  },
  {
   "cell_type": "markdown",
   "metadata": {},
   "source": [
    "Once we are done, we could save the data to a file or a database for later use."
   ]
  },
  {
   "cell_type": "code",
   "execution_count": null,
   "metadata": {},
   "outputs": [],
   "source": [
    "import json\n",
    "\n",
    "with open(\"output/nyt_articles.json\", \"w\") as f:\n",
    "    json.dump(articles, f, indent=2)"
   ]
  },
  {
   "cell_type": "code",
   "execution_count": null,
   "metadata": {},
   "outputs": [],
   "source": []
  }
 ],
 "metadata": {
  "kernelspec": {
   "display_name": ".venv",
   "language": "python",
   "name": "python3"
  },
  "language_info": {
   "codemirror_mode": {
    "name": "ipython",
    "version": 3
   },
   "file_extension": ".py",
   "mimetype": "text/x-python",
   "name": "python",
   "nbconvert_exporter": "python",
   "pygments_lexer": "ipython3",
   "version": "3.10.14"
  }
 },
 "nbformat": 4,
 "nbformat_minor": 2
}
