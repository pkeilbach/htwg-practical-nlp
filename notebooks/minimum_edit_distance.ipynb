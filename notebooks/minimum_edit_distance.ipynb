{
 "cells": [
  {
   "cell_type": "markdown",
   "metadata": {},
   "source": [
    "# Auto Correct with Minimum Edit Distance\n",
    "\n",
    "In this notebook, we will implement a simple auto-correct system. We will use the Minimum Edit Distance algorithm to measure the similarity between a word and a target word. Then, we will use this to find the word in our vocabulary that is most similar to the input.\n",
    "\n",
    "We will implement models that correct words that are 1 and 2 edit distances away. \n",
    "\n",
    "An edit could consist of one of the following options: \n",
    "\n",
    "- Delete (remove a letter): `hat` => `at, ha, ht`\n",
    "- Switch (swap 2 adjacent letters): `eta` => `eat, tea,...`\n",
    "- Replace (change 1 letter to another): `jat` => `hat, rat, cat, mat, ...`\n",
    "- Insert (add a letter): `te` => `the, ten, ate, ...`\n",
    "\n",
    "You will be using the four methods above to implement an Auto-correct. \n",
    "- To do so, you will need to compute probabilities that a certain word is correct given an input. \n",
    "\n",
    "> This auto-correct you are about to implement was first created by [Peter Norvig](https://en.wikipedia.org/wiki/Peter_Norvig) in 2007. His [original article](https://norvig.com/spell-correct.html) may be a useful reference for this notebook."
   ]
  },
  {
   "cell_type": "markdown",
   "metadata": {},
   "source": [
    "## Preprocessing "
   ]
  },
  {
   "cell_type": "code",
   "execution_count": null,
   "metadata": {},
   "outputs": [],
   "source": [
    "import re\n",
    "from collections import Counter\n",
    "import numpy as np\n",
    "import pandas as pd"
   ]
  },
  {
   "cell_type": "markdown",
   "metadata": {},
   "source": [
    "As in any other machine learning task, the first thing you have to do is process your data set.\n",
    "\n",
    "Your first task is to read in a file called **`shakespeare.txt`** which is found in `notebooks/data` directory.\n",
    "\n",
    "> Hint: use `re.findall()` to extract all the words from a string."
   ]
  },
  {
   "cell_type": "code",
   "execution_count": null,
   "metadata": {},
   "outputs": [],
   "source": [
    "def process_data(file_name: str) -> list[str]:\n",
    "    \"\"\"\n",
    "    Process the data from a given file and return a list of all words in the corpus.\n",
    "\n",
    "    The words should be lowercased and should not contain any punctuation.\n",
    "\n",
    "    Args:\n",
    "        file_name (str): the file name of the data\n",
    "\n",
    "    Returns:\n",
    "        list[str]: a list of words\n",
    "    \"\"\"\n",
    "\n",
    "    # TODO implement this function\n",
    "    raise NotImplementedError(\"This function needs to be implemented.\")"
   ]
  },
  {
   "cell_type": "code",
   "execution_count": null,
   "metadata": {},
   "outputs": [],
   "source": [
    "word_list = process_data(\"data/shakespeare.txt\")\n",
    "VOCABULARY = set(word_list)\n",
    "\n",
    "print(word_list[0:10])\n",
    "print(len(VOCABULARY))"
   ]
  },
  {
   "cell_type": "markdown",
   "metadata": {},
   "source": [
    "**Expected Output**\n",
    "\n",
    "```txt\n",
    "['o', 'for', 'a', 'muse', 'of', 'fire', 'that', 'would', 'ascend', 'the']\n",
    "6116\n",
    "```"
   ]
  },
  {
   "cell_type": "markdown",
   "metadata": {},
   "source": [
    "Implement a `get_word_frequencies()` which returns a dictionary where the key is a word and the value is the number of times the word appears in the list.  \n"
   ]
  },
  {
   "cell_type": "code",
   "execution_count": null,
   "metadata": {},
   "outputs": [],
   "source": [
    "def get_word_frequencies(words: list[str]) -> dict[str, int]:\n",
    "    \"\"\"\n",
    "    Count the number of occurrences of each word in a given list of words.\n",
    "\n",
    "    Args:\n",
    "        words (list[str]): a list of words\n",
    "\n",
    "    Returns:\n",
    "        dict[str, int]: a dictionary that maps from words to counts\n",
    "    \"\"\"\n",
    "\n",
    "    # TODO implement this function\n",
    "    raise NotImplementedError(\"This function needs to be implemented.\")"
   ]
  },
  {
   "cell_type": "code",
   "execution_count": null,
   "metadata": {},
   "outputs": [],
   "source": [
    "word_count_dict = get_word_frequencies(word_list)\n",
    "print(len(word_count_dict))\n",
    "print(word_count_dict.get(\"thee\", 0))"
   ]
  },
  {
   "cell_type": "markdown",
   "metadata": {},
   "source": [
    "Expected Output\n",
    "\n",
    "```txt\n",
    "6116\n",
    "240\n",
    "```"
   ]
  },
  {
   "cell_type": "markdown",
   "metadata": {},
   "source": [
    "Given the dictionary of word counts, compute the probability that each word will appear if randomly selected from the corpus of words.\n",
    "\n",
    "$$P(w_i) = \\frac{C(w_i)}{m} \\tag{Eqn-2}$$\n",
    "\n",
    "Implement `get_word_probabilities()` function which gives you the probability that a word occurs in a sample. This returns a dictionary where the keys are words, and the value for each word is its probability in the corpus of words."
   ]
  },
  {
   "cell_type": "code",
   "execution_count": null,
   "metadata": {},
   "outputs": [],
   "source": [
    "def get_word_probabilities(freqs: dict[str, int]) -> dict[str, float]:\n",
    "    \"\"\"\n",
    "    Compute the probability of each word in a given dictionary of word frequencies.\n",
    "\n",
    "    Args:\n",
    "        freqs (dict[str, int]): a dictionary that maps from words to counts\n",
    "\n",
    "    Returns:\n",
    "        dict[str, float]: a dictionary that maps from words to probabilities\n",
    "    \"\"\"\n",
    "\n",
    "    # TODO implement this function\n",
    "    raise NotImplementedError(\"This function needs to be implemented.\")"
   ]
  },
  {
   "cell_type": "code",
   "execution_count": null,
   "metadata": {},
   "outputs": [],
   "source": [
    "WORD_PROBABILITIES = get_word_probabilities(word_count_dict)\n",
    "print(len(WORD_PROBABILITIES))\n",
    "print(f\"{WORD_PROBABILITIES['thee']:.4f}\")"
   ]
  },
  {
   "cell_type": "markdown",
   "metadata": {},
   "source": [
    "Expected Output\n",
    "\n",
    "```txt\n",
    "6116\n",
    "0.0045\n",
    "```"
   ]
  },
  {
   "cell_type": "markdown",
   "metadata": {},
   "source": [
    "## Edit Operations\n",
    "\n",
    "Now, that you have computed $P(w_i)$ for all the words in the corpus, you will write a few functions to manipulate strings so that you can edit the erroneous strings and return the right spellings of the words. In this section, you will implement four functions: \n",
    "\n",
    "* `delete_letter()`: given a word, it returns all the possible strings that have **one character removed**. \n",
    "* `replace_letter()`: given a word, it returns all the possible strings that have **one character replaced by another different letter**.\n",
    "* `insert_letter()`: given a word, it returns all the possible strings that have an **additional character inserted**.\n",
    "\n",
    "Implement a `delete_letter()` function that, given a word, returns a list of strings with one character deleted. \n",
    "\n",
    "For example, given the word `nice`, it would return the set: `['ice', 'nce', 'nic', 'nie']`.\n"
   ]
  },
  {
   "cell_type": "code",
   "execution_count": null,
   "metadata": {},
   "outputs": [],
   "source": [
    "def delete_letter(word: str) -> list[str]:\n",
    "    \"\"\"\n",
    "    Performs a delete operation on the given word and returns all possible strings that can occur after the delete operation.\n",
    "\n",
    "    Args:\n",
    "        word (str): a word on which to perform the deletion operation\n",
    "\n",
    "    Returns:\n",
    "        list[str]: a list of string with one character deleted\n",
    "    \"\"\"\n",
    "\n",
    "    # TODO implement this function\n",
    "    raise NotImplementedError(\"This function needs to be implemented.\")"
   ]
  },
  {
   "cell_type": "code",
   "execution_count": null,
   "metadata": {},
   "outputs": [],
   "source": [
    "print(delete_letter(\"cans\"))\n",
    "print(delete_letter(\"at\"))"
   ]
  },
  {
   "cell_type": "markdown",
   "metadata": {},
   "source": [
    "Expected Output\n",
    "\n",
    "```txt\n",
    "['ans', 'cns', 'cas', 'can']\n",
    "['t', 'a']\n",
    "```"
   ]
  },
  {
   "cell_type": "markdown",
   "metadata": {},
   "source": [
    "Now implement the `replace_letter()` function.\n",
    "\n",
    "The function replaces one letter from the original word with another letter from the latin alphabet. It should return a list of all possible words obtained by replacing one letter from the original word with another letter from the alphabet. Note that the original word should **not** be in the returned set."
   ]
  },
  {
   "cell_type": "code",
   "execution_count": null,
   "metadata": {},
   "outputs": [],
   "source": [
    "def replace_letter(word: str) -> list[str]:\n",
    "    \"\"\"\n",
    "    Performs a replace operation on the given word and returns all possible strings that can occur after the replace operation.\n",
    "\n",
    "    As replacement characters, you should use the characters from the standard English alphabet of 26 characters.\n",
    "\n",
    "    Args:\n",
    "        word (str): a word on which to perform the replacement operation\n",
    "\n",
    "    Returns:\n",
    "        list[str]: a list of strings with each character replaced\n",
    "    \"\"\"\n",
    "\n",
    "    # TODO implement this function\n",
    "    raise NotImplementedError(\"This function needs to be implemented.\")"
   ]
  },
  {
   "cell_type": "code",
   "execution_count": null,
   "metadata": {},
   "outputs": [],
   "source": [
    "replace_letter_l = replace_letter(\"can\")\n",
    "print(len(replace_letter_l))\n",
    "print(\"can\" in replace_letter_l)"
   ]
  },
  {
   "cell_type": "markdown",
   "metadata": {},
   "source": [
    "Expected Output: \n",
    "\n",
    "```txt\n",
    "75\n",
    "False\n",
    "```\n",
    "\n",
    "> Note how the input word 'can' should not be one of the output words."
   ]
  },
  {
   "cell_type": "markdown",
   "metadata": {},
   "source": [
    "Now implement a function that takes in a word and returns a list with a letter inserted at every offset.\n",
    "\n",
    "Note that the original word should **not** be in the returned set."
   ]
  },
  {
   "cell_type": "code",
   "execution_count": null,
   "metadata": {},
   "outputs": [],
   "source": [
    "def insert_letter(word: str) -> list[str]:\n",
    "    \"\"\"\n",
    "    Performs an insert operation on the given word and returns all possible strings that can occur after the insert operation.\n",
    "\n",
    "    As insertion characters, you should use the characters from the standard English alphabet of 26 characters.\n",
    "\n",
    "    Args:\n",
    "        word (str): a word on which to perform the insertion operation\n",
    "\n",
    "    Returns:\n",
    "        list[str]: a list of strings with a new character inserted\n",
    "    \"\"\"\n",
    "\n",
    "    # TODO implement this function\n",
    "    raise NotImplementedError(\"This function needs to be implemented.\")"
   ]
  },
  {
   "cell_type": "code",
   "execution_count": null,
   "metadata": {},
   "outputs": [],
   "source": [
    "insert_l = insert_letter(\"at\")\n",
    "print(len(insert_l))"
   ]
  },
  {
   "cell_type": "markdown",
   "metadata": {},
   "source": [
    "Expected output\n",
    "\n",
    "```txt\n",
    "78\n",
    "```"
   ]
  },
  {
   "cell_type": "markdown",
   "metadata": {},
   "source": [
    "## Combining the edits\n",
    "\n",
    "Now that you have implemented the string manipulations, you will create two functions that, given a string, will return all the possible single and double edits on that string. These will be `edit_one_letter()` and `edit_two_letters()`.\n",
    "\n",
    "Implement the `edit_one_letter()` function to get all the possible edits that are one edit away from a word. The edits  consist of the replace, insert, delete, and optionally the switch operation. You should use the previous functions you have already implemented to complete this function. \n",
    "\n",
    "Note that those functions return *lists* while this function should return a *python set*. Utilizing a set eliminates any duplicate entries."
   ]
  },
  {
   "cell_type": "code",
   "execution_count": null,
   "metadata": {},
   "outputs": [],
   "source": [
    "def edit_one_letter(word: str) -> set[str]:\n",
    "    \"\"\"\n",
    "    Given a word, return a set of strings with one possible edit on the given word.\n",
    "\n",
    "    Args:\n",
    "        word (str): a word on which to perform the edit operation\n",
    "\n",
    "    Returns:\n",
    "        set[str]: a set of strings with one possible edit on the given word\n",
    "    \"\"\"\n",
    "\n",
    "    # TODO implement this function\n",
    "    raise NotImplementedError(\"This function needs to be implemented.\")"
   ]
  },
  {
   "cell_type": "code",
   "execution_count": null,
   "metadata": {},
   "outputs": [],
   "source": [
    "print(len(edit_one_letter(\"at\")))"
   ]
  },
  {
   "cell_type": "markdown",
   "metadata": {},
   "source": [
    "Expected Output\n",
    "\n",
    "```txt\n",
    "128\n",
    "```"
   ]
  },
  {
   "cell_type": "markdown",
   "metadata": {},
   "source": [
    "Now you can generalize this to implement to get two edits on a word. To do so, you would have to get all the possible edits on a single word and then for each modified word, you would have to modify it again. \n",
    "\n",
    "Implement the `edit_two_letters()` function that returns a set of words that are two edits away. Note that creating additional edits based on the `edit_one_letter` function may 'restore' some one_edits to zero or one edits. That is allowed here. This accounted for in get_corrections."
   ]
  },
  {
   "cell_type": "code",
   "execution_count": null,
   "metadata": {},
   "outputs": [],
   "source": [
    "def edit_two_letters(word: str) -> set[str]:\n",
    "    \"\"\"\n",
    "    Given a word, return a set of strings with two possible edits on the given word.\n",
    "\n",
    "    Args:\n",
    "        word (str): a word on which to perform the edit operation\n",
    "\n",
    "    Returns:\n",
    "        set[str]: a set of strings with two possible edits on the given word\n",
    "    \"\"\"\n",
    "\n",
    "    # TODO implement this function\n",
    "    raise NotImplementedError(\"This function needs to be implemented.\")"
   ]
  },
  {
   "cell_type": "code",
   "execution_count": null,
   "metadata": {},
   "outputs": [],
   "source": [
    "print(len(edit_two_letters(\"a\")))\n",
    "print(len(edit_two_letters(\"at\")))"
   ]
  },
  {
   "cell_type": "markdown",
   "metadata": {},
   "source": [
    "Expected Output\n",
    "\n",
    "```txt\n",
    "2654\n",
    "7130\n",
    "```"
   ]
  },
  {
   "cell_type": "markdown",
   "metadata": {},
   "source": [
    "## Suggest Possible Corrections\n",
    "\n",
    "Now you will use your `edit_two_letters()` function to get a set of all the possible 2 edits on your word. You will then use those strings to get the most probable word you meant to type aka your typing suggestion.\n",
    "\n",
    "Implement `get_corrections()`, which returns a list of zero to n possible suggestion tuples of the form (word, probability_of_word). \n",
    "\n",
    "Generate suggestions for a supplied word: You'll use the edit functions you have developed. The suggestion algorithm should work as follows:\n",
    "\n",
    "- If the word is in the vocabulary, suggest the word. \n",
    "- Otherwise, if there are suggestions from `edit_one_letter()` that are in the vocabulary, use those. \n",
    "- Otherwise, if there are suggestions from `edit_two_letters()` that are in the vocabulary, use those. \n",
    "- Otherwise, suggest the input word.*  \n",
    "- The idea is that words generated from fewer edits are more likely than words with more edits.\n",
    "\n",
    "> Edits of one or two letters may 'restore' strings to either zero or one edit. This algorithm accounts for this by preferentially selecting lower distance edits first."
   ]
  },
  {
   "cell_type": "code",
   "execution_count": null,
   "metadata": {},
   "outputs": [],
   "source": [
    "def get_corrections(\n",
    "    word: str,\n",
    "    probs: dict[str, float] = WORD_PROBABILITIES,\n",
    "    vocab: set[str] = VOCABULARY,\n",
    "    n: int = 2,\n",
    ") -> list[tuple[str, float]]:\n",
    "    \"\"\"\n",
    "    Given a word, return a list of n possible spelling corrections ranked by probability.\n",
    "\n",
    "    Args:\n",
    "        word (str): the word to be corrected\n",
    "        probs (dict[str, float]): a dictionary that maps from words to probabilities\n",
    "        vocab (set[str]): a set of all words in the vocabulary\n",
    "        n (int): the number of possible spelling corrections to return\n",
    "\n",
    "    Returns:\n",
    "        list[tuple[str, float]]: a list of tuples with the n possible spelling corrections and their probabilities, sorted in descending order of probabilities\n",
    "    \"\"\"\n",
    "\n",
    "    # TODO implement this function\n",
    "    raise NotImplementedError(\"This function needs to be implemented.\")"
   ]
  },
  {
   "cell_type": "code",
   "execution_count": null,
   "metadata": {},
   "outputs": [],
   "source": [
    "# Test your implementation - feel free to try other words in my word\n",
    "tmp_corrections = get_corrections(\"dys\")\n",
    "for i, word_prob in enumerate(tmp_corrections):\n",
    "    print(f\"word {i}: {word_prob[0]}, probability {word_prob[1]:.6f}\")"
   ]
  },
  {
   "cell_type": "markdown",
   "metadata": {},
   "source": [
    "Expected Output\n",
    "\n",
    "```txt\n",
    "word 0: days, probability 0.000410\n",
    "word 1: dye, probability 0.000019\n",
    "```"
   ]
  },
  {
   "cell_type": "code",
   "execution_count": null,
   "metadata": {},
   "outputs": [],
   "source": [
    "get_corrections(\"imagunary\")"
   ]
  },
  {
   "cell_type": "markdown",
   "metadata": {},
   "source": [
    "## Minimum Edit distance\n",
    "\n",
    "Now that you have implemented your auto-correct, how do you evaluate the similarity between two strings? For example: `waht` and `what`\n",
    "\n",
    "Also how do you efficiently find the shortest path to go from the word, `waht` to the word `what`?\n",
    "\n",
    "You will implement a **dynamic programming** algorithm that will tell you the minimum number of edits required to convert a string into another string.\n",
    "\n",
    "Dynamic Programming breaks a problem down into subproblems which can be combined to form the final solution. \n",
    "\n",
    "Here, given two strings $source$ and $target$, we will compute all the combinations of substrings, and calculate their edit distance.\n",
    "\n",
    "To do this efficiently, we will use a table to maintain the previously computed substrings and use those to calculate larger substrings.\n",
    "\n",
    "You have to create a matrix and update each element in the matrix as follows:\n",
    "\n",
    "Initialization:\n",
    "\n",
    "$$\n",
    "\\begin{align}\n",
    "D[0,0] &= 0 \\\\\n",
    "D[i,0] &= D[i-1,0] + del\\_cost(source[i]) \\tag{4}\\\\\n",
    "D[0,j] &= D[0,j-1] + ins\\_cost(target[j]) \\\\\n",
    "\\end{align}\n",
    "$$\n",
    "\n",
    "Per Cell Operations\n",
    "\n",
    "$$\n",
    "\\begin{align}\n",
    " \\\\\n",
    "D[i,j] =min\n",
    "\\begin{cases}\n",
    "D[i-1,j] + del\\_cost\\\\\n",
    "D[i,j-1] + ins\\_cost\\\\\n",
    "D[i-1,j-1] + \\left\\{\\begin{matrix}\n",
    "rep\\_cost; & if src[i]\\neq tar[j]\\\\\n",
    "0 ; & if src[i]=tar[j]\n",
    "\\end{matrix}\\right.\n",
    "\\end{cases}\n",
    "\\tag{5}\n",
    "\\end{align}\n",
    "$$\n",
    "\n",
    "So converting the source word `play` to the target word `stay`, using an input cost of one, a delete cost of `1`, and replace cost of `2` would give you the following table:\n",
    "\n",
    "|  | # | s | t | a | y |\n",
    "|---|---|---|---|---|---|\n",
    "| **#** | 0 | 1 | 2 | 3 | 4 |\n",
    "| **p** | 1 | 2 | 3 | 4 | 5 |\n",
    "| **l** | 2 | 3 | 4 | 5 | 6 |\n",
    "| **a** | 3 | 4 | 5 | 4 | 5 |\n",
    "| **y** | 4 | 5 | 6 | 5 | 4 |\n",
    "\n",
    "Implement the `min_edit_distance()` function below to get the minimum amount of edits required given a source string and a target string. "
   ]
  },
  {
   "cell_type": "code",
   "execution_count": null,
   "metadata": {},
   "outputs": [],
   "source": [
    "def min_edit_distance(\n",
    "    source: str, target: str, ins_cost: int = 1, del_cost: int = 1, rep_cost: int = 2\n",
    ") -> tuple[np.ndarray, int]:\n",
    "    \"\"\"\n",
    "    Compute the minimum edit distance between two strings.\n",
    "\n",
    "    Args:\n",
    "        source (str): the source string\n",
    "        target (str): the target string\n",
    "        ins_cost (int): the cost of an insertion\n",
    "        del_cost (int): the cost of a deletion\n",
    "        rep_cost (int): the cost of a replacement\n",
    "\n",
    "    Returns:\n",
    "        tuple[np.ndarray, int]: a tuple containing the cost matrix and the minimum edit distance\n",
    "    \"\"\"\n",
    "\n",
    "    # TODO implement this function\n",
    "    raise NotImplementedError(\"This function needs to be implemented.\")"
   ]
  },
  {
   "cell_type": "markdown",
   "metadata": {},
   "source": [
    "Test your implementation:"
   ]
  },
  {
   "cell_type": "code",
   "execution_count": null,
   "metadata": {},
   "outputs": [],
   "source": [
    "# get the edit distance\n",
    "source = \"play\"\n",
    "target = \"stay\"\n",
    "matrix, min_edits = min_edit_distance(source, target)\n",
    "print(\"minimum edits: \", min_edits, \"\\n\")\n",
    "\n",
    "# visualize the matrix\n",
    "idx = list(\"#\" + source)\n",
    "cols = list(\"#\" + target)\n",
    "df = pd.DataFrame(matrix, index=idx, columns=cols)\n",
    "print(df)"
   ]
  },
  {
   "cell_type": "markdown",
   "metadata": {},
   "source": [
    "**Expected Results:**\n",
    "\n",
    "minimum edits:  4\n",
    "\n",
    "```txt\n",
    "   #  s  t  a  y\n",
    "#  0  1  2  3  4\n",
    "p  1  2  3  4  5\n",
    "l  2  3  4  5  6\n",
    "a  3  4  5  4  5\n",
    "y  4  5  6  5  4\n",
    "```"
   ]
  },
  {
   "cell_type": "code",
   "execution_count": null,
   "metadata": {},
   "outputs": [],
   "source": [
    "# get the edit distance\n",
    "source = \"eer\"\n",
    "target = \"near\"\n",
    "matrix, min_edits = min_edit_distance(source, target)\n",
    "print(\"minimum edits: \", min_edits, \"\\n\")\n",
    "\n",
    "# visualize the matrix\n",
    "idx = list(\"#\" + source)\n",
    "cols = list(\"#\" + target)\n",
    "df = pd.DataFrame(matrix, index=idx, columns=cols)\n",
    "print(df)"
   ]
  },
  {
   "cell_type": "markdown",
   "metadata": {},
   "source": [
    "**Expected Results**\n",
    "\n",
    "```txt\n",
    "minimum edits:  3 \n",
    "\n",
    "   #  n  e  a  r\n",
    "#  0  1  2  3  4\n",
    "e  1  2  1  2  3\n",
    "e  2  3  2  3  4\n",
    "r  3  4  3  4  3\n",
    "```"
   ]
  }
 ],
 "metadata": {
  "coursera": {
   "schema_names": [
    "NLPC2-1"
   ]
  },
  "kernelspec": {
   "display_name": "Python 3 (ipykernel)",
   "language": "python",
   "name": "python3"
  },
  "language_info": {
   "codemirror_mode": {
    "name": "ipython",
    "version": 3
   },
   "file_extension": ".py",
   "mimetype": "text/x-python",
   "name": "python",
   "nbconvert_exporter": "python",
   "pygments_lexer": "ipython3",
   "version": "3.10.11"
  }
 },
 "nbformat": 4,
 "nbformat_minor": 4
}
