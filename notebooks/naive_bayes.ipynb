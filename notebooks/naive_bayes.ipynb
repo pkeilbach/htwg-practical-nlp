{
 "cells": [
  {
   "cell_type": "markdown",
   "metadata": {},
   "source": [
    "# Sentiment Analysis with Naive Bayes\n",
    "\n",
    "In this notebook, we will explore the use of Naive Bayes for sentiment analysis.\n",
    "\n",
    "It is essentially the same task as in the previous assignment, except we use Naive Bayes this time."
   ]
  },
  {
   "cell_type": "markdown",
   "metadata": {},
   "source": [
    "## Dataset\n",
    "\n",
    "We will use the same dataset as in the previous assignment, that is the NLTK tweets dataset.\n",
    "\n",
    "Also we will do the same train/test split as in the previous assignment."
   ]
  },
  {
   "cell_type": "code",
   "execution_count": 1,
   "metadata": {},
   "outputs": [
    {
     "name": "stdout",
     "output_type": "stream",
     "text": [
      "Total number of tweets:  10000\n",
      "Number of positive tweets:  5000\n",
      "Number of negative tweets:  5000\n",
      "Number of training samples:  8000\n",
      "Number of test samples:  2000\n",
      "train_data_pos: 4000\n",
      "train_data_neg: 4000\n",
      "test_data_pos: 1000\n",
      "test_data_neg: 1000\n",
      "train_data: 8000\n",
      "test_data: 2000\n"
     ]
    }
   ],
   "source": [
    "from nltk.corpus import twitter_samples\n",
    "\n",
    "postive_tweets = twitter_samples.strings(\"positive_tweets.json\")\n",
    "negative_tweets = twitter_samples.strings(\"negative_tweets.json\")\n",
    "n_samples = len(postive_tweets) + len(negative_tweets)\n",
    "n_pos = len(postive_tweets)\n",
    "n_neg = len(negative_tweets)\n",
    "\n",
    "print(\"Total number of tweets: \", n_samples)\n",
    "print(\"Number of positive tweets: \", n_pos)\n",
    "print(\"Number of negative tweets: \", n_neg)\n",
    "\n",
    "n_train = int(n_samples * 0.8)\n",
    "n_test = n_samples - n_train\n",
    "\n",
    "print(\"Number of training samples: \", n_train)\n",
    "print(\"Number of test samples: \", n_test)\n",
    "\n",
    "n = int(n_train / 2)\n",
    "\n",
    "# training data\n",
    "train_data_pos = postive_tweets[:n]\n",
    "train_data_neg = negative_tweets[:n]\n",
    "print(f\"train_data_pos: {len(train_data_pos)}\")\n",
    "print(f\"train_data_neg: {len(train_data_neg)}\")\n",
    "\n",
    "# test data\n",
    "test_data_pos = postive_tweets[n:]\n",
    "test_data_neg = negative_tweets[n:]\n",
    "print(f\"test_data_pos: {len(test_data_pos)}\")\n",
    "print(f\"test_data_neg: {len(test_data_neg)}\")\n",
    "\n",
    "# build train and test datasets\n",
    "train_data = train_data_pos + train_data_neg\n",
    "test_data = test_data_pos + test_data_neg\n",
    "print(f\"train_data: {len(train_data)}\")\n",
    "print(f\"test_data: {len(test_data)}\")"
   ]
  },
  {
   "cell_type": "code",
   "execution_count": 2,
   "metadata": {},
   "outputs": [
    {
     "name": "stdout",
     "output_type": "stream",
     "text": [
      "y_train shape:  (8000, 1)\n",
      "y_test shape:  (2000, 1)\n"
     ]
    }
   ],
   "source": [
    "import numpy as np\n",
    "\n",
    "# create labels\n",
    "y_train = np.append(\n",
    "    np.ones((len(train_data_pos), 1)), np.zeros((len(train_data_neg), 1)), axis=0\n",
    ")\n",
    "y_test = np.append(\n",
    "    np.ones((len(test_data_pos), 1)), np.zeros((len(test_data_neg), 1)), axis=0\n",
    ")\n",
    "\n",
    "print(\"y_train shape: \", y_train.shape)\n",
    "print(\"y_test shape: \", y_test.shape)"
   ]
  },
  {
   "cell_type": "markdown",
   "metadata": {},
   "source": [
    "## Preprocessing\n",
    "\n",
    "We will reuse our preprocessing pipeline."
   ]
  },
  {
   "cell_type": "code",
   "execution_count": 3,
   "metadata": {},
   "outputs": [
    {
     "data": {
      "text/plain": [
       "['followfriday', 'top', 'engag', 'member', 'commun', 'week', ':)']"
      ]
     },
     "execution_count": 3,
     "metadata": {},
     "output_type": "execute_result"
    }
   ],
   "source": [
    "from htwgnlp.preprocessing import TweetProcessor\n",
    "\n",
    "processor = TweetProcessor()\n",
    "train_data_processed = [processor.process_tweet(tweet) for tweet in train_data]\n",
    "train_data_processed[0]"
   ]
  },
  {
   "cell_type": "markdown",
   "metadata": {},
   "source": [
    "## Training\n",
    "\n",
    "For training, the goal is to find the word probabilities for each class.\n",
    "\n",
    "Also we need the log ratio of the probabilities, which are calculated from the word probabilities."
   ]
  },
  {
   "cell_type": "code",
   "execution_count": 4,
   "metadata": {},
   "outputs": [
    {
     "data": {
      "text/html": [
       "<div>\n",
       "<style scoped>\n",
       "    .dataframe tbody tr th:only-of-type {\n",
       "        vertical-align: middle;\n",
       "    }\n",
       "\n",
       "    .dataframe tbody tr th {\n",
       "        vertical-align: top;\n",
       "    }\n",
       "\n",
       "    .dataframe thead th {\n",
       "        text-align: right;\n",
       "    }\n",
       "</style>\n",
       "<table border=\"1\" class=\"dataframe\">\n",
       "  <thead>\n",
       "    <tr style=\"text-align: right;\">\n",
       "      <th></th>\n",
       "      <th>0</th>\n",
       "      <th>1</th>\n",
       "    </tr>\n",
       "  </thead>\n",
       "  <tbody>\n",
       "    <tr>\n",
       "      <th>hopeless</th>\n",
       "      <td>0.000083</td>\n",
       "      <td>0.000027</td>\n",
       "    </tr>\n",
       "    <tr>\n",
       "      <th>tmr</th>\n",
       "      <td>0.000110</td>\n",
       "      <td>0.000054</td>\n",
       "    </tr>\n",
       "    <tr>\n",
       "      <th>:(</th>\n",
       "      <td>0.101256</td>\n",
       "      <td>0.000054</td>\n",
       "    </tr>\n",
       "    <tr>\n",
       "      <th>everyth</th>\n",
       "      <td>0.000413</td>\n",
       "      <td>0.000300</td>\n",
       "    </tr>\n",
       "    <tr>\n",
       "      <th>kid</th>\n",
       "      <td>0.000468</td>\n",
       "      <td>0.000381</td>\n",
       "    </tr>\n",
       "    <tr>\n",
       "      <th>...</th>\n",
       "      <td>...</td>\n",
       "      <td>...</td>\n",
       "    </tr>\n",
       "    <tr>\n",
       "      <th>umair</th>\n",
       "      <td>0.000028</td>\n",
       "      <td>0.000054</td>\n",
       "    </tr>\n",
       "    <tr>\n",
       "      <th>thoracicbridg</th>\n",
       "      <td>0.000028</td>\n",
       "      <td>0.000054</td>\n",
       "    </tr>\n",
       "    <tr>\n",
       "      <th>5minut</th>\n",
       "      <td>0.000028</td>\n",
       "      <td>0.000054</td>\n",
       "    </tr>\n",
       "    <tr>\n",
       "      <th>nonscript</th>\n",
       "      <td>0.000028</td>\n",
       "      <td>0.000054</td>\n",
       "    </tr>\n",
       "    <tr>\n",
       "      <th>soph</th>\n",
       "      <td>0.000028</td>\n",
       "      <td>0.000054</td>\n",
       "    </tr>\n",
       "  </tbody>\n",
       "</table>\n",
       "<p>9160 rows × 2 columns</p>\n",
       "</div>"
      ],
      "text/plain": [
       "                      0         1\n",
       "hopeless       0.000083  0.000027\n",
       "tmr            0.000110  0.000054\n",
       ":(             0.101256  0.000054\n",
       "everyth        0.000413  0.000300\n",
       "kid            0.000468  0.000381\n",
       "...                 ...       ...\n",
       "umair          0.000028  0.000054\n",
       "thoracicbridg  0.000028  0.000054\n",
       "5minut         0.000028  0.000054\n",
       "nonscript      0.000028  0.000054\n",
       "soph           0.000028  0.000054\n",
       "\n",
       "[9160 rows x 2 columns]"
      ]
     },
     "execution_count": 4,
     "metadata": {},
     "output_type": "execute_result"
    }
   ],
   "source": [
    "from htwgnlp.naive_bayes import NaiveBayes\n",
    "\n",
    "model = NaiveBayes()\n",
    "\n",
    "model.fit(train_data_processed, y_train)\n",
    "model.word_probabilities"
   ]
  },
  {
   "cell_type": "code",
   "execution_count": 5,
   "metadata": {},
   "outputs": [
    {
     "data": {
      "text/plain": [
       "hopeless        -1.109570\n",
       "tmr             -0.704105\n",
       ":(              -7.527391\n",
       "everyth         -0.321113\n",
       "kid             -0.205114\n",
       "                   ...   \n",
       "umair            0.682189\n",
       "thoracicbridg    0.682189\n",
       "5minut           0.682189\n",
       "nonscript        0.682189\n",
       "soph             0.682189\n",
       "Length: 9160, dtype: float64"
      ]
     },
     "execution_count": 5,
     "metadata": {},
     "output_type": "execute_result"
    }
   ],
   "source": [
    "model.log_ratios"
   ]
  },
  {
   "cell_type": "markdown",
   "metadata": {},
   "source": [
    "## Testing\n",
    "\n",
    "For testing, we need to make sure to apply the same preprocessing pipeline as for training.\n",
    "\n",
    "Then we can calculate the log ratio of the probabilities for each class.\n",
    "\n",
    "This is done by the `predict` function, which returns the predicted class label."
   ]
  },
  {
   "cell_type": "code",
   "execution_count": 6,
   "metadata": {},
   "outputs": [],
   "source": [
    "test_data_processed = [processor.process_tweet(tweet) for tweet in test_data]"
   ]
  },
  {
   "cell_type": "code",
   "execution_count": 7,
   "metadata": {},
   "outputs": [
    {
     "data": {
      "text/plain": [
       "array([[1],\n",
       "       [1],\n",
       "       [1],\n",
       "       ...,\n",
       "       [0],\n",
       "       [0],\n",
       "       [0]])"
      ]
     },
     "execution_count": 7,
     "metadata": {},
     "output_type": "execute_result"
    }
   ],
   "source": [
    "y_pred = model.predict(test_data_processed)\n",
    "y_pred"
   ]
  },
  {
   "cell_type": "markdown",
   "metadata": {},
   "source": [
    "## Evaluation\n",
    "\n",
    "We can observe that we achieve a relatively high accuracy of 99.65% on the test set.\n",
    "\n",
    "```\n",
    "# expected output\n",
    "Accuracy: 0.9965\n",
    "```"
   ]
  },
  {
   "cell_type": "code",
   "execution_count": 8,
   "metadata": {},
   "outputs": [
    {
     "name": "stdout",
     "output_type": "stream",
     "text": [
      "Accuracy: 99.65\n"
     ]
    }
   ],
   "source": [
    "print(f\"Accuracy: {(y_pred == y_test).mean() * 100}\")"
   ]
  },
  {
   "cell_type": "markdown",
   "metadata": {},
   "source": [
    "Now we can try to predict our own tweet."
   ]
  },
  {
   "cell_type": "code",
   "execution_count": 9,
   "metadata": {},
   "outputs": [
    {
     "name": "stdout",
     "output_type": "stream",
     "text": [
      "tweet: ['konstanz', 'great', 'place', 'live']\n",
      "prediction: [1]\n"
     ]
    }
   ],
   "source": [
    "tweet = \"Konstanz is a great place to live!\"\n",
    "x_i = [processor.process_tweet(tweet)]\n",
    "print(f\"tweet: {x_i[0]}\")\n",
    "print(f\"prediction: {model.predict(x_i)[0]}\")"
   ]
  },
  {
   "cell_type": "markdown",
   "metadata": {},
   "source": [
    "## Error Analysis\n",
    "\n",
    "Finally, we can check the error cases to see where our model fails."
   ]
  },
  {
   "cell_type": "code",
   "execution_count": 10,
   "metadata": {},
   "outputs": [
    {
     "name": "stdout",
     "output_type": "stream",
     "text": [
      "sample:   65, predicted class: [0], actual class: [1.] log likelihood: -1.4684, tweet: @jaredNOTsubway @iluvmariah @Bravotv Then that truly is a LATERAL move! Now, we all know the Queen Bee is UPWARD BOUND : ) #MovingOnUp\n",
      "sample:  222, predicted class: [0], actual class: [1.] log likelihood: -1.0290, tweet: A new report talks about how we burn more calories in the cold, because we work harder to warm up. Feel any better about the weather? :p\n",
      "sample:  753, predicted class: [0], actual class: [1.] log likelihood: -0.9607, tweet: off to the park to get some sunlight : )\n",
      "sample:  822, predicted class: [0], actual class: [1.] log likelihood: -0.4665, tweet: @msarosh Uff Itna Miss karhy thy ap :p\n",
      "sample: 1057, predicted class: [1], actual class: [0.] log likelihood:  0.7028, tweet: @rcdlccom hello, any info about possible interest in Jonathas ?? He is close to join Betis :( greatings\n",
      "sample: 1298, predicted class: [1], actual class: [0.] log likelihood:  1.9149, tweet: @phenomyoutube u probs had more fun with david than me : (\n",
      "sample: 1544, predicted class: [1], actual class: [0.] log likelihood:  1.3753, tweet: pats jay : (\n"
     ]
    }
   ],
   "source": [
    "error_cases = np.nonzero((y_pred.flatten() != y_test.flatten()))[0]\n",
    "y_prob = model.predict_prob(test_data_processed)\n",
    "\n",
    "for i in error_cases:\n",
    "    print(\n",
    "        f\"sample: {i:>4}, predicted class: {y_pred[i]}, actual class: {y_test[i]} log likelihood: {y_prob[i].item():7.4f}, tweet: {test_data[i]}\"\n",
    "    )"
   ]
  },
  {
   "cell_type": "markdown",
   "metadata": {},
   "source": [
    "To better understand our classifier, we can check which words have the most impact on the sentiment of the review.\n",
    "\n",
    "We can use the log ratios of the conditional probabilities to find the words that are most indicative of a positive or negative tweet.\n",
    "\n",
    "Remember from the lecture that a value greater than 0 means that the word is more likely to appear in a positive tweet, and a value less than 0 means that the word is more likely to appear in a negative tweet."
   ]
  },
  {
   "cell_type": "code",
   "execution_count": 11,
   "metadata": {},
   "outputs": [
    {
     "data": {
      "text/plain": [
       ":)              6.883712\n",
       ":-)             6.304400\n",
       ":d              6.250534\n",
       ":p              4.652481\n",
       "stat            3.940286\n",
       "bam             3.795705\n",
       "warsaw          3.795705\n",
       "blog            3.321247\n",
       "fback           3.284879\n",
       "followfriday    3.167096\n",
       "dtype: float64"
      ]
     },
     "execution_count": 11,
     "metadata": {},
     "output_type": "execute_result"
    }
   ],
   "source": [
    "model.log_ratios.sort_values(ascending=False).head(10)"
   ]
  },
  {
   "cell_type": "markdown",
   "metadata": {},
   "source": [
    "Looking at the counts may give us a better intuition."
   ]
  },
  {
   "cell_type": "code",
   "execution_count": 12,
   "metadata": {},
   "outputs": [
    {
     "data": {
      "text/html": [
       "<div>\n",
       "<style scoped>\n",
       "    .dataframe tbody tr th:only-of-type {\n",
       "        vertical-align: middle;\n",
       "    }\n",
       "\n",
       "    .dataframe tbody tr th {\n",
       "        vertical-align: top;\n",
       "    }\n",
       "\n",
       "    .dataframe thead th {\n",
       "        text-align: right;\n",
       "    }\n",
       "</style>\n",
       "<table border=\"1\" class=\"dataframe\">\n",
       "  <thead>\n",
       "    <tr style=\"text-align: right;\">\n",
       "      <th></th>\n",
       "      <th>0</th>\n",
       "      <th>1</th>\n",
       "      <th>ratio</th>\n",
       "    </tr>\n",
       "  </thead>\n",
       "  <tbody>\n",
       "    <tr>\n",
       "      <th>:)</th>\n",
       "      <td>2</td>\n",
       "      <td>2960</td>\n",
       "      <td>987.0</td>\n",
       "    </tr>\n",
       "    <tr>\n",
       "      <th>:-)</th>\n",
       "      <td>0</td>\n",
       "      <td>552</td>\n",
       "      <td>553.0</td>\n",
       "    </tr>\n",
       "    <tr>\n",
       "      <th>:d</th>\n",
       "      <td>0</td>\n",
       "      <td>523</td>\n",
       "      <td>524.0</td>\n",
       "    </tr>\n",
       "    <tr>\n",
       "      <th>:p</th>\n",
       "      <td>0</td>\n",
       "      <td>105</td>\n",
       "      <td>106.0</td>\n",
       "    </tr>\n",
       "    <tr>\n",
       "      <th>stat</th>\n",
       "      <td>0</td>\n",
       "      <td>51</td>\n",
       "      <td>52.0</td>\n",
       "    </tr>\n",
       "    <tr>\n",
       "      <th>warsaw</th>\n",
       "      <td>0</td>\n",
       "      <td>44</td>\n",
       "      <td>45.0</td>\n",
       "    </tr>\n",
       "    <tr>\n",
       "      <th>bam</th>\n",
       "      <td>0</td>\n",
       "      <td>44</td>\n",
       "      <td>45.0</td>\n",
       "    </tr>\n",
       "    <tr>\n",
       "      <th>blog</th>\n",
       "      <td>0</td>\n",
       "      <td>27</td>\n",
       "      <td>28.0</td>\n",
       "    </tr>\n",
       "    <tr>\n",
       "      <th>fback</th>\n",
       "      <td>0</td>\n",
       "      <td>26</td>\n",
       "      <td>27.0</td>\n",
       "    </tr>\n",
       "    <tr>\n",
       "      <th>followfriday</th>\n",
       "      <td>0</td>\n",
       "      <td>23</td>\n",
       "      <td>24.0</td>\n",
       "    </tr>\n",
       "  </tbody>\n",
       "</table>\n",
       "</div>"
      ],
      "text/plain": [
       "              0     1  ratio\n",
       ":)            2  2960  987.0\n",
       ":-)           0   552  553.0\n",
       ":d            0   523  524.0\n",
       ":p            0   105  106.0\n",
       "stat          0    51   52.0\n",
       "warsaw        0    44   45.0\n",
       "bam           0    44   45.0\n",
       "blog          0    27   28.0\n",
       "fback         0    26   27.0\n",
       "followfriday  0    23   24.0"
      ]
     },
     "execution_count": 12,
     "metadata": {},
     "output_type": "execute_result"
    }
   ],
   "source": [
    "df = model.df_freqs.copy()\n",
    "\n",
    "df[\"ratio\"] = (df[1] + 1) / (df[0] + 1)\n",
    "df.sort_values(by=\"ratio\", ascending=False).head(10)"
   ]
  },
  {
   "cell_type": "code",
   "execution_count": 13,
   "metadata": {},
   "outputs": [
    {
     "data": {
      "text/html": [
       "<div>\n",
       "<style scoped>\n",
       "    .dataframe tbody tr th:only-of-type {\n",
       "        vertical-align: middle;\n",
       "    }\n",
       "\n",
       "    .dataframe tbody tr th {\n",
       "        vertical-align: top;\n",
       "    }\n",
       "\n",
       "    .dataframe thead th {\n",
       "        text-align: right;\n",
       "    }\n",
       "</style>\n",
       "<table border=\"1\" class=\"dataframe\">\n",
       "  <thead>\n",
       "    <tr style=\"text-align: right;\">\n",
       "      <th></th>\n",
       "      <th>0</th>\n",
       "      <th>1</th>\n",
       "      <th>ratio</th>\n",
       "    </tr>\n",
       "  </thead>\n",
       "  <tbody>\n",
       "    <tr>\n",
       "      <th>:(</th>\n",
       "      <td>3675</td>\n",
       "      <td>1</td>\n",
       "      <td>0.000544</td>\n",
       "    </tr>\n",
       "    <tr>\n",
       "      <th>:-(</th>\n",
       "      <td>386</td>\n",
       "      <td>0</td>\n",
       "      <td>0.002584</td>\n",
       "    </tr>\n",
       "    <tr>\n",
       "      <th>》</th>\n",
       "      <td>210</td>\n",
       "      <td>0</td>\n",
       "      <td>0.004739</td>\n",
       "    </tr>\n",
       "    <tr>\n",
       "      <th>♛</th>\n",
       "      <td>210</td>\n",
       "      <td>0</td>\n",
       "      <td>0.004739</td>\n",
       "    </tr>\n",
       "    <tr>\n",
       "      <th>&gt;:(</th>\n",
       "      <td>43</td>\n",
       "      <td>0</td>\n",
       "      <td>0.022727</td>\n",
       "    </tr>\n",
       "    <tr>\n",
       "      <th>justi̇n</th>\n",
       "      <td>35</td>\n",
       "      <td>0</td>\n",
       "      <td>0.027778</td>\n",
       "    </tr>\n",
       "    <tr>\n",
       "      <th>wi̇ll</th>\n",
       "      <td>35</td>\n",
       "      <td>0</td>\n",
       "      <td>0.027778</td>\n",
       "    </tr>\n",
       "    <tr>\n",
       "      <th>beli̇ev</th>\n",
       "      <td>35</td>\n",
       "      <td>0</td>\n",
       "      <td>0.027778</td>\n",
       "    </tr>\n",
       "    <tr>\n",
       "      <th>ｓｅｅ</th>\n",
       "      <td>35</td>\n",
       "      <td>0</td>\n",
       "      <td>0.027778</td>\n",
       "    </tr>\n",
       "    <tr>\n",
       "      <th>ｍｅ</th>\n",
       "      <td>35</td>\n",
       "      <td>0</td>\n",
       "      <td>0.027778</td>\n",
       "    </tr>\n",
       "  </tbody>\n",
       "</table>\n",
       "</div>"
      ],
      "text/plain": [
       "            0  1     ratio\n",
       ":(       3675  1  0.000544\n",
       ":-(       386  0  0.002584\n",
       "》         210  0  0.004739\n",
       "♛         210  0  0.004739\n",
       ">:(        43  0  0.022727\n",
       "justi̇n    35  0  0.027778\n",
       "wi̇ll      35  0  0.027778\n",
       "beli̇ev    35  0  0.027778\n",
       "ｓｅｅ        35  0  0.027778\n",
       "ｍｅ         35  0  0.027778"
      ]
     },
     "execution_count": 13,
     "metadata": {},
     "output_type": "execute_result"
    }
   ],
   "source": [
    "df.sort_values(by=\"ratio\").head(10)"
   ]
  },
  {
   "cell_type": "markdown",
   "metadata": {},
   "source": [
    "## Conclusion\n",
    "\n",
    "The Naive Bayes classifier is a simple but powerful classifier that works well on text classification problems. \n",
    "\n",
    "It makes the assumption that the features are conditionally independent given the class, which is not true in general, but it still performs well in practice.\n"
   ]
  }
 ],
 "metadata": {
  "kernelspec": {
   "display_name": ".venv",
   "language": "python",
   "name": "python3"
  },
  "language_info": {
   "codemirror_mode": {
    "name": "ipython",
    "version": 3
   },
   "file_extension": ".py",
   "mimetype": "text/x-python",
   "name": "python",
   "nbconvert_exporter": "python",
   "pygments_lexer": "ipython3",
   "version": "3.10.11"
  }
 },
 "nbformat": 4,
 "nbformat_minor": 2
}
